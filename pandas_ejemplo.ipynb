{
  "cells": [
    {
      "cell_type": "markdown",
      "metadata": {
        "id": "view-in-github",
        "colab_type": "text"
      },
      "source": [
        "<a href=\"https://colab.research.google.com/github/diegorojasucv/Python-Scripts/blob/master/pandas_ejemplo.ipynb\" target=\"_parent\"><img src=\"https://colab.research.google.com/assets/colab-badge.svg\" alt=\"Open In Colab\"/></a>"
      ]
    },
    {
      "cell_type": "code",
      "execution_count": 6,
      "metadata": {
        "id": "9zD4OhF4tqwf"
      },
      "outputs": [],
      "source": [
        "import numpy as np\n",
        "import pandas as pd"
      ]
    },
    {
      "cell_type": "code",
      "execution_count": 9,
      "metadata": {
        "colab": {
          "base_uri": "https://localhost:8080/"
        },
        "id": "lvL4YAaktqwh",
        "outputId": "7e14a816-c883-47f8-99c6-7c03e7777741"
      },
      "outputs": [
        {
          "output_type": "stream",
          "name": "stdout",
          "text": [
            "DataFrame:\n",
            "   0  1  2\n",
            "0  1  2  3\n",
            "1  4  5  6\n"
          ]
        }
      ],
      "source": [
        "#Creando un data frame\n",
        "df = pd.DataFrame(np.array([[1, 2, 3], [4, 5, 6]]))\n",
        "print('DataFrame:')\n",
        "print(df)"
      ]
    },
    {
      "cell_type": "markdown",
      "source": [
        ""
      ],
      "metadata": {
        "id": "Lfh86bQuvubJ"
      }
    },
    {
      "cell_type": "markdown",
      "source": [
        "# Hola Como estas?"
      ],
      "metadata": {
        "id": "JJa_sT86vjjB"
      }
    },
    {
      "cell_type": "code",
      "execution_count": 3,
      "metadata": {
        "colab": {
          "base_uri": "https://localhost:8080/"
        },
        "id": "lXkOkX_Xtqwi",
        "outputId": "31e5d81d-2473-4dcc-8e38-2012a0ee0df7"
      },
      "outputs": [
        {
          "output_type": "stream",
          "name": "stdout",
          "text": [
            "Series:\n",
            "Argentina         Buenos Aires\n",
            "Chile        Santiago de Chile\n",
            "Colombia                Bogotá\n",
            "Perú                      Lima\n",
            "dtype: object\n"
          ]
        }
      ],
      "source": [
        "#Creando una serie\n",
        "series = pd.Series({\"Argentina\":\"Buenos Aires\", \"Chile\":\"Santiago de Chile\", \"Colombia\":\"Bogotá\", \"Perú\":\"Lima\"})\n",
        "print('Series:')\n",
        "print(series)"
      ]
    },
    {
      "cell_type": "code",
      "execution_count": 4,
      "metadata": {
        "colab": {
          "base_uri": "https://localhost:8080/"
        },
        "id": "JHu9hc3Ntqwj",
        "outputId": "566f1d20-425d-451d-b576-a13b3ac1a5fc"
      },
      "outputs": [
        {
          "output_type": "stream",
          "name": "stdout",
          "text": [
            "Forma del DataFrame:\n",
            "(2, 3)\n"
          ]
        }
      ],
      "source": [
        "#Forma del DataFrame\n",
        "print('Forma del DataFrame:')\n",
        "print(df.shape)"
      ]
    },
    {
      "cell_type": "code",
      "execution_count": null,
      "metadata": {
        "id": "xT7MG5Ectqwj",
        "outputId": "989e9be7-2264-447b-fac2-9c3168fcaac8"
      },
      "outputs": [
        {
          "name": "stdout",
          "output_type": "stream",
          "text": [
            "Altura del DataFrame:\n",
            "2\n"
          ]
        }
      ],
      "source": [
        "#Altura del DataFrame\n",
        "print('Altura del DataFrame:')\n",
        "print(len(df.index))"
      ]
    },
    {
      "cell_type": "code",
      "execution_count": null,
      "metadata": {
        "id": "_rOkRvSItqwk",
        "outputId": "04d81177-508c-44e4-b297-b5a20df81ce0"
      },
      "outputs": [
        {
          "name": "stdout",
          "output_type": "stream",
          "text": [
            "Estadísticas del DataFrame:\n",
            "             0        1        2\n",
            "count  2.00000  2.00000  2.00000\n",
            "mean   2.50000  3.50000  4.50000\n",
            "std    2.12132  2.12132  2.12132\n",
            "min    1.00000  2.00000  3.00000\n",
            "25%    1.75000  2.75000  3.75000\n",
            "50%    2.50000  3.50000  4.50000\n",
            "75%    3.25000  4.25000  5.25000\n",
            "max    4.00000  5.00000  6.00000\n"
          ]
        }
      ],
      "source": [
        "#Estadísticas del DataFrame\n",
        "print('Estadísticas del DataFrame:')\n",
        "print(df.describe())"
      ]
    },
    {
      "cell_type": "code",
      "execution_count": null,
      "metadata": {
        "id": "1Bl4lwpNtqwl",
        "outputId": "5bda9037-ba91-49af-998a-2e4b87ef1470"
      },
      "outputs": [
        {
          "name": "stdout",
          "output_type": "stream",
          "text": [
            "Media de las columnas DataFrame:\n",
            "0    2.5\n",
            "1    3.5\n",
            "2    4.5\n",
            "dtype: float64\n"
          ]
        }
      ],
      "source": [
        "#Media de las columnas DataFrame\n",
        "print('Media de las columnas DataFrame:')\n",
        "print(df.mean())"
      ]
    },
    {
      "cell_type": "code",
      "execution_count": null,
      "metadata": {
        "id": "KLWZskC0tqwl",
        "outputId": "beb28cf4-8745-43f6-b9cf-1e685de70f1a"
      },
      "outputs": [
        {
          "name": "stdout",
          "output_type": "stream",
          "text": [
            "Correlación del DataFrame:\n",
            "     0    1    2\n",
            "0  1.0  1.0  1.0\n",
            "1  1.0  1.0  1.0\n",
            "2  1.0  1.0  1.0\n"
          ]
        }
      ],
      "source": [
        "#Correlación del DataFrame\n",
        "print('Correlación del DataFrame:')\n",
        "print(df.corr())"
      ]
    },
    {
      "cell_type": "code",
      "execution_count": null,
      "metadata": {
        "id": "YntpjzIUtqwm",
        "outputId": "ebec50ad-6cde-4060-a775-b820d2f274d0"
      },
      "outputs": [
        {
          "name": "stdout",
          "output_type": "stream",
          "text": [
            "Conteo de datos del DataFrame:\n",
            "0    2\n",
            "1    2\n",
            "2    2\n",
            "dtype: int64\n"
          ]
        }
      ],
      "source": [
        "#Cuenta los datos del DataFrame\n",
        "print('Conteo de datos del DataFrame:')\n",
        "print(df.count())"
      ]
    },
    {
      "cell_type": "code",
      "execution_count": null,
      "metadata": {
        "id": "8ogoreNYtqwn",
        "outputId": "4f30f782-6a07-4748-c270-83d29ac03294"
      },
      "outputs": [
        {
          "name": "stdout",
          "output_type": "stream",
          "text": [
            "Valor más alto de la columna del DataFrame:\n",
            "0    4\n",
            "1    5\n",
            "2    6\n",
            "dtype: int32\n"
          ]
        }
      ],
      "source": [
        "#Valor más alto de cada columna del DataFrame\n",
        "print('Valor más alto de la columna del DataFrame:')\n",
        "print(df.max())"
      ]
    },
    {
      "cell_type": "code",
      "execution_count": null,
      "metadata": {
        "id": "yN1wF0EXtqwo",
        "outputId": "ded563e6-9e79-4891-e0a9-24190a53f6c9"
      },
      "outputs": [
        {
          "name": "stdout",
          "output_type": "stream",
          "text": [
            "Valor mínimo de la columna del DataFrame:\n",
            "0    1\n",
            "1    2\n",
            "2    3\n",
            "dtype: int32\n"
          ]
        }
      ],
      "source": [
        "#Valor mínimo de cada columna del DataFrame\n",
        "print('Valor mínimo de la columna del DataFrame:')\n",
        "print(df.min())"
      ]
    },
    {
      "cell_type": "code",
      "execution_count": null,
      "metadata": {
        "id": "tNnBuwdVtqwo",
        "outputId": "33a89b13-68fd-4048-8ba5-e877aa093e42"
      },
      "outputs": [
        {
          "name": "stdout",
          "output_type": "stream",
          "text": [
            "Mediana de la columna del DataFrame:\n",
            "0    2.5\n",
            "1    3.5\n",
            "2    4.5\n",
            "dtype: float64\n"
          ]
        }
      ],
      "source": [
        "print('Mediana de la columna del DataFrame:')\n",
        "print(df.median())"
      ]
    },
    {
      "cell_type": "code",
      "execution_count": null,
      "metadata": {
        "id": "VDSKVHWttqwp",
        "outputId": "e33455d7-51a7-4322-b638-046bcdfd3cda"
      },
      "outputs": [
        {
          "name": "stdout",
          "output_type": "stream",
          "text": [
            "Desviación estándar de la columna del DataFrame:\n",
            "0    2.12132\n",
            "1    2.12132\n",
            "2    2.12132\n",
            "dtype: float64\n"
          ]
        }
      ],
      "source": [
        "#Desviación estándar de cada columna del DataFrame\n",
        "print('Desviación estándar de la columna del DataFrame:')\n",
        "print(df.std())"
      ]
    },
    {
      "cell_type": "code",
      "execution_count": null,
      "metadata": {
        "id": "xNZfpCk-tqwp",
        "outputId": "f9c15315-4298-4c21-91cf-c20fa13982df"
      },
      "outputs": [
        {
          "name": "stdout",
          "output_type": "stream",
          "text": [
            "Primera columna del DataFrame:\n",
            "0    1\n",
            "1    4\n",
            "Name: 0, dtype: int32\n"
          ]
        }
      ],
      "source": [
        "#Seleccionar la primera columna del DataFrame\n",
        "print('Primera columna del DataFrame:')\n",
        "print(df[0])"
      ]
    },
    {
      "cell_type": "code",
      "execution_count": null,
      "metadata": {
        "id": "lh3Y7vx2tqwq",
        "outputId": "b1b50f41-bd26-4635-d8d1-90ad8e5dc6f7"
      },
      "outputs": [
        {
          "name": "stdout",
          "output_type": "stream",
          "text": [
            "Dos columnas del DataFrame:\n",
            "   0  1\n",
            "0  1  2\n",
            "1  4  5\n"
          ]
        }
      ],
      "source": [
        "#Seleccionar dos columnas del DataFrame\n",
        "print('Dos columnas del DataFrame:')\n",
        "print(df[[0, 1]])"
      ]
    },
    {
      "cell_type": "code",
      "execution_count": null,
      "metadata": {
        "id": "7yswM4Oltqwq",
        "outputId": "29e9ebff-af41-4d18-d1d4-0502168c7136"
      },
      "outputs": [
        {
          "name": "stdout",
          "output_type": "stream",
          "text": [
            "Valor de la primera fila y última columna del DataFrame:\n",
            "3\n"
          ]
        }
      ],
      "source": [
        "#Seleccionar el valor de la primera fila y última columna del DataFrame\n",
        "print('Valor de la primera fila y última columna del DataFrame:')\n",
        "print(df.iloc[0][2])"
      ]
    },
    {
      "cell_type": "code",
      "execution_count": null,
      "metadata": {
        "id": "Mo0rhaZ-tqwq",
        "outputId": "0d956cf7-512e-402a-eacc-b478906adcb8"
      },
      "outputs": [
        {
          "name": "stdout",
          "output_type": "stream",
          "text": [
            "Valores de la primera fila del DataFrame:\n",
            "0    1\n",
            "1    2\n",
            "2    3\n",
            "Name: 0, dtype: int32\n"
          ]
        }
      ],
      "source": [
        "#Seleccionar los valores de la primera fila del DataFrame\n",
        "print('Valores de la primera fila del DataFrame:')\n",
        "print(df.loc[0])"
      ]
    },
    {
      "cell_type": "code",
      "execution_count": null,
      "metadata": {
        "id": "3GVPDusctqws",
        "outputId": "51b8dfc0-f0a7-415e-9d39-fb45c652dd04"
      },
      "outputs": [
        {
          "name": "stdout",
          "output_type": "stream",
          "text": [
            "Valores de la primera fila del DataFrame:\n",
            "0    1\n",
            "1    2\n",
            "2    3\n",
            "Name: 0, dtype: int32\n"
          ]
        }
      ],
      "source": [
        "#Seleccionar los valores de la primera fila del DataFrame\n",
        "print('Valores de la primera fila del DataFrame:')\n",
        "print(df.iloc[0,:])"
      ]
    },
    {
      "cell_type": "code",
      "execution_count": null,
      "metadata": {
        "id": "0hRDxHhjtqws"
      },
      "outputs": [],
      "source": [
        "# Ahora vamos a trabajar con datos reales\n",
        "\n",
        "#Cargamos los datos de entrenamiento de Loan Prediction \n",
        "import pandas as pd\n",
        "\n",
        "df=pd.read_csv('C:/Users/Diego/Documents/train.csv')"
      ]
    },
    {
      "cell_type": "code",
      "execution_count": null,
      "metadata": {
        "id": "o0tF5URbtqws",
        "outputId": "c49a1c5b-80a8-4556-ebd1-14812fed19d7"
      },
      "outputs": [
        {
          "data": {
            "text/html": [
              "<div>\n",
              "<style scoped>\n",
              "    .dataframe tbody tr th:only-of-type {\n",
              "        vertical-align: middle;\n",
              "    }\n",
              "\n",
              "    .dataframe tbody tr th {\n",
              "        vertical-align: top;\n",
              "    }\n",
              "\n",
              "    .dataframe thead th {\n",
              "        text-align: right;\n",
              "    }\n",
              "</style>\n",
              "<table border=\"1\" class=\"dataframe\">\n",
              "  <thead>\n",
              "    <tr style=\"text-align: right;\">\n",
              "      <th></th>\n",
              "      <th>Loan_ID</th>\n",
              "      <th>Gender</th>\n",
              "      <th>Married</th>\n",
              "      <th>Dependents</th>\n",
              "      <th>Education</th>\n",
              "      <th>Self_Employed</th>\n",
              "      <th>ApplicantIncome</th>\n",
              "      <th>CoapplicantIncome</th>\n",
              "      <th>LoanAmount</th>\n",
              "      <th>Loan_Amount_Term</th>\n",
              "      <th>Credit_History</th>\n",
              "      <th>Property_Area</th>\n",
              "      <th>Loan_Status</th>\n",
              "    </tr>\n",
              "  </thead>\n",
              "  <tbody>\n",
              "    <tr>\n",
              "      <th>0</th>\n",
              "      <td>LP001002</td>\n",
              "      <td>Male</td>\n",
              "      <td>No</td>\n",
              "      <td>0</td>\n",
              "      <td>Graduate</td>\n",
              "      <td>No</td>\n",
              "      <td>5849</td>\n",
              "      <td>0.0</td>\n",
              "      <td>NaN</td>\n",
              "      <td>360.0</td>\n",
              "      <td>1.0</td>\n",
              "      <td>Urban</td>\n",
              "      <td>Y</td>\n",
              "    </tr>\n",
              "    <tr>\n",
              "      <th>1</th>\n",
              "      <td>LP001003</td>\n",
              "      <td>Male</td>\n",
              "      <td>Yes</td>\n",
              "      <td>1</td>\n",
              "      <td>Graduate</td>\n",
              "      <td>No</td>\n",
              "      <td>4583</td>\n",
              "      <td>1508.0</td>\n",
              "      <td>128.0</td>\n",
              "      <td>360.0</td>\n",
              "      <td>1.0</td>\n",
              "      <td>Rural</td>\n",
              "      <td>N</td>\n",
              "    </tr>\n",
              "    <tr>\n",
              "      <th>2</th>\n",
              "      <td>LP001005</td>\n",
              "      <td>Male</td>\n",
              "      <td>Yes</td>\n",
              "      <td>0</td>\n",
              "      <td>Graduate</td>\n",
              "      <td>Yes</td>\n",
              "      <td>3000</td>\n",
              "      <td>0.0</td>\n",
              "      <td>66.0</td>\n",
              "      <td>360.0</td>\n",
              "      <td>1.0</td>\n",
              "      <td>Urban</td>\n",
              "      <td>Y</td>\n",
              "    </tr>\n",
              "    <tr>\n",
              "      <th>3</th>\n",
              "      <td>LP001006</td>\n",
              "      <td>Male</td>\n",
              "      <td>Yes</td>\n",
              "      <td>0</td>\n",
              "      <td>Not Graduate</td>\n",
              "      <td>No</td>\n",
              "      <td>2583</td>\n",
              "      <td>2358.0</td>\n",
              "      <td>120.0</td>\n",
              "      <td>360.0</td>\n",
              "      <td>1.0</td>\n",
              "      <td>Urban</td>\n",
              "      <td>Y</td>\n",
              "    </tr>\n",
              "    <tr>\n",
              "      <th>4</th>\n",
              "      <td>LP001008</td>\n",
              "      <td>Male</td>\n",
              "      <td>No</td>\n",
              "      <td>0</td>\n",
              "      <td>Graduate</td>\n",
              "      <td>No</td>\n",
              "      <td>6000</td>\n",
              "      <td>0.0</td>\n",
              "      <td>141.0</td>\n",
              "      <td>360.0</td>\n",
              "      <td>1.0</td>\n",
              "      <td>Urban</td>\n",
              "      <td>Y</td>\n",
              "    </tr>\n",
              "  </tbody>\n",
              "</table>\n",
              "</div>"
            ],
            "text/plain": [
              "    Loan_ID Gender Married Dependents     Education Self_Employed  \\\n",
              "0  LP001002   Male      No          0      Graduate            No   \n",
              "1  LP001003   Male     Yes          1      Graduate            No   \n",
              "2  LP001005   Male     Yes          0      Graduate           Yes   \n",
              "3  LP001006   Male     Yes          0  Not Graduate            No   \n",
              "4  LP001008   Male      No          0      Graduate            No   \n",
              "\n",
              "   ApplicantIncome  CoapplicantIncome  LoanAmount  Loan_Amount_Term  \\\n",
              "0             5849                0.0         NaN             360.0   \n",
              "1             4583             1508.0       128.0             360.0   \n",
              "2             3000                0.0        66.0             360.0   \n",
              "3             2583             2358.0       120.0             360.0   \n",
              "4             6000                0.0       141.0             360.0   \n",
              "\n",
              "   Credit_History Property_Area Loan_Status  \n",
              "0             1.0         Urban           Y  \n",
              "1             1.0         Rural           N  \n",
              "2             1.0         Urban           Y  \n",
              "3             1.0         Urban           Y  \n",
              "4             1.0         Urban           Y  "
            ]
          },
          "execution_count": 7,
          "metadata": {},
          "output_type": "execute_result"
        }
      ],
      "source": [
        "#Exploración de los datos\n",
        "\n",
        "#ver las primeras 5 filas de los datos\n",
        "df.head(5)        "
      ]
    },
    {
      "cell_type": "code",
      "execution_count": null,
      "metadata": {
        "id": "L2tkuA4ltqwt",
        "outputId": "9ea035a9-56ae-4065-a009-4def759b0c78"
      },
      "outputs": [
        {
          "data": {
            "text/html": [
              "<div>\n",
              "<style scoped>\n",
              "    .dataframe tbody tr th:only-of-type {\n",
              "        vertical-align: middle;\n",
              "    }\n",
              "\n",
              "    .dataframe tbody tr th {\n",
              "        vertical-align: top;\n",
              "    }\n",
              "\n",
              "    .dataframe thead th {\n",
              "        text-align: right;\n",
              "    }\n",
              "</style>\n",
              "<table border=\"1\" class=\"dataframe\">\n",
              "  <thead>\n",
              "    <tr style=\"text-align: right;\">\n",
              "      <th></th>\n",
              "      <th>Loan_ID</th>\n",
              "      <th>Gender</th>\n",
              "      <th>Married</th>\n",
              "      <th>Dependents</th>\n",
              "      <th>Education</th>\n",
              "      <th>Self_Employed</th>\n",
              "      <th>ApplicantIncome</th>\n",
              "      <th>CoapplicantIncome</th>\n",
              "      <th>LoanAmount</th>\n",
              "      <th>Loan_Amount_Term</th>\n",
              "      <th>Credit_History</th>\n",
              "      <th>Property_Area</th>\n",
              "      <th>Loan_Status</th>\n",
              "    </tr>\n",
              "  </thead>\n",
              "  <tbody>\n",
              "    <tr>\n",
              "      <th>609</th>\n",
              "      <td>LP002978</td>\n",
              "      <td>Female</td>\n",
              "      <td>No</td>\n",
              "      <td>0</td>\n",
              "      <td>Graduate</td>\n",
              "      <td>No</td>\n",
              "      <td>2900</td>\n",
              "      <td>0.0</td>\n",
              "      <td>71.0</td>\n",
              "      <td>360.0</td>\n",
              "      <td>1.0</td>\n",
              "      <td>Rural</td>\n",
              "      <td>Y</td>\n",
              "    </tr>\n",
              "    <tr>\n",
              "      <th>610</th>\n",
              "      <td>LP002979</td>\n",
              "      <td>Male</td>\n",
              "      <td>Yes</td>\n",
              "      <td>3+</td>\n",
              "      <td>Graduate</td>\n",
              "      <td>No</td>\n",
              "      <td>4106</td>\n",
              "      <td>0.0</td>\n",
              "      <td>40.0</td>\n",
              "      <td>180.0</td>\n",
              "      <td>1.0</td>\n",
              "      <td>Rural</td>\n",
              "      <td>Y</td>\n",
              "    </tr>\n",
              "    <tr>\n",
              "      <th>611</th>\n",
              "      <td>LP002983</td>\n",
              "      <td>Male</td>\n",
              "      <td>Yes</td>\n",
              "      <td>1</td>\n",
              "      <td>Graduate</td>\n",
              "      <td>No</td>\n",
              "      <td>8072</td>\n",
              "      <td>240.0</td>\n",
              "      <td>253.0</td>\n",
              "      <td>360.0</td>\n",
              "      <td>1.0</td>\n",
              "      <td>Urban</td>\n",
              "      <td>Y</td>\n",
              "    </tr>\n",
              "    <tr>\n",
              "      <th>612</th>\n",
              "      <td>LP002984</td>\n",
              "      <td>Male</td>\n",
              "      <td>Yes</td>\n",
              "      <td>2</td>\n",
              "      <td>Graduate</td>\n",
              "      <td>No</td>\n",
              "      <td>7583</td>\n",
              "      <td>0.0</td>\n",
              "      <td>187.0</td>\n",
              "      <td>360.0</td>\n",
              "      <td>1.0</td>\n",
              "      <td>Urban</td>\n",
              "      <td>Y</td>\n",
              "    </tr>\n",
              "    <tr>\n",
              "      <th>613</th>\n",
              "      <td>LP002990</td>\n",
              "      <td>Female</td>\n",
              "      <td>No</td>\n",
              "      <td>0</td>\n",
              "      <td>Graduate</td>\n",
              "      <td>Yes</td>\n",
              "      <td>4583</td>\n",
              "      <td>0.0</td>\n",
              "      <td>133.0</td>\n",
              "      <td>360.0</td>\n",
              "      <td>0.0</td>\n",
              "      <td>Semiurban</td>\n",
              "      <td>N</td>\n",
              "    </tr>\n",
              "  </tbody>\n",
              "</table>\n",
              "</div>"
            ],
            "text/plain": [
              "      Loan_ID  Gender Married Dependents Education Self_Employed  \\\n",
              "609  LP002978  Female      No          0  Graduate            No   \n",
              "610  LP002979    Male     Yes         3+  Graduate            No   \n",
              "611  LP002983    Male     Yes          1  Graduate            No   \n",
              "612  LP002984    Male     Yes          2  Graduate            No   \n",
              "613  LP002990  Female      No          0  Graduate           Yes   \n",
              "\n",
              "     ApplicantIncome  CoapplicantIncome  LoanAmount  Loan_Amount_Term  \\\n",
              "609             2900                0.0        71.0             360.0   \n",
              "610             4106                0.0        40.0             180.0   \n",
              "611             8072              240.0       253.0             360.0   \n",
              "612             7583                0.0       187.0             360.0   \n",
              "613             4583                0.0       133.0             360.0   \n",
              "\n",
              "     Credit_History Property_Area Loan_Status  \n",
              "609             1.0         Rural           Y  \n",
              "610             1.0         Rural           Y  \n",
              "611             1.0         Urban           Y  \n",
              "612             1.0         Urban           Y  \n",
              "613             0.0     Semiurban           N  "
            ]
          },
          "execution_count": 27,
          "metadata": {},
          "output_type": "execute_result"
        }
      ],
      "source": [
        "#ver las primeras 5 filas de los datos\n",
        "df.tail(5)"
      ]
    },
    {
      "cell_type": "code",
      "execution_count": null,
      "metadata": {
        "id": "s_71755Xtqwt",
        "outputId": "3de0f2c4-d871-4309-e3fa-38f26a8c9d80"
      },
      "outputs": [
        {
          "data": {
            "text/plain": [
              "Loan_ID               object\n",
              "Gender                object\n",
              "Married               object\n",
              "Dependents            object\n",
              "Education             object\n",
              "Self_Employed         object\n",
              "ApplicantIncome        int64\n",
              "CoapplicantIncome    float64\n",
              "LoanAmount           float64\n",
              "Loan_Amount_Term     float64\n",
              "Credit_History       float64\n",
              "Property_Area         object\n",
              "Loan_Status           object\n",
              "dtype: object"
            ]
          },
          "execution_count": 28,
          "metadata": {},
          "output_type": "execute_result"
        }
      ],
      "source": [
        "# mostramos los diferentes tipos de datos que hay en la data\n",
        "df.dtypes"
      ]
    },
    {
      "cell_type": "code",
      "execution_count": null,
      "metadata": {
        "id": "OUPE5FI-tqwt",
        "outputId": "cd932bbf-b1a0-4fe0-cb89-96143a6ee178"
      },
      "outputs": [
        {
          "name": "stdout",
          "output_type": "stream",
          "text": [
            "Suma datos nulos en el DataFrame:\n",
            "Loan_ID               0\n",
            "Gender               13\n",
            "Married               3\n",
            "Dependents           15\n",
            "Education             0\n",
            "Self_Employed        32\n",
            "ApplicantIncome       0\n",
            "CoapplicantIncome     0\n",
            "LoanAmount           22\n",
            "Loan_Amount_Term     14\n",
            "Credit_History       50\n",
            "Property_Area         0\n",
            "Loan_Status           0\n",
            "dtype: int64\n"
          ]
        }
      ],
      "source": [
        "#Verificar si hay datos nulos en las variables\n",
        "print('Suma datos nulos en el DataFrame:')\n",
        "print(df.isnull().sum())"
      ]
    },
    {
      "cell_type": "code",
      "execution_count": null,
      "metadata": {
        "id": "MrAYvpLRtqwu",
        "outputId": "4870be00-5e75-4f38-b5f9-91271f31ecc2"
      },
      "outputs": [
        {
          "name": "stdout",
          "output_type": "stream",
          "text": [
            "Porcentaje de datos nulos en el DataFrame para cada variable:\n",
            "Loan_ID              0.000000\n",
            "Gender               2.117264\n",
            "Married              0.488599\n",
            "Dependents           2.442997\n",
            "Education            0.000000\n",
            "Self_Employed        5.211726\n",
            "ApplicantIncome      0.000000\n",
            "CoapplicantIncome    0.000000\n",
            "LoanAmount           3.583062\n",
            "Loan_Amount_Term     2.280130\n",
            "Credit_History       8.143322\n",
            "Property_Area        0.000000\n",
            "Loan_Status          0.000000\n",
            "dtype: float64\n"
          ]
        }
      ],
      "source": [
        "#Verificar si hay datos nulos en el DataFrame\n",
        "print('Porcentaje de datos nulos en el DataFrame para cada variable:')\n",
        "print((df.isnull().sum()/df.isnull().count())*100)"
      ]
    },
    {
      "cell_type": "code",
      "execution_count": null,
      "metadata": {
        "id": "7j_kOGB-tqwu"
      },
      "outputs": [],
      "source": [
        "# Vemos que hay varias variables tipo objeto en la data.\n",
        "# Estas varibales se deben trasformar en variables númericas \n",
        "# para que puedan ser empleadas en los algoritmos de machine learning (scikit-learn)\n",
        "\n",
        "#Pero, antes debemos tratar las variables con valores nulos para poder transformlas \n",
        "# de categoricas a númericas\n",
        "\n",
        "df['Gender'].fillna(df['Gender'].mode()[0], inplace=True)\n",
        "df['Married'].fillna(df['Married'].mode()[0], inplace=True)\n",
        "df['Dependents'].fillna(df['Dependents'].mode()[0], inplace=True)\n",
        "df['Self_Employed'].fillna(df['Self_Employed'].mode()[0], inplace=True)\n",
        "df['LoanAmount'].fillna(df['LoanAmount'].mean(), inplace=True)\n",
        "df['Loan_Amount_Term'].fillna(df['Loan_Amount_Term'].mode()[0], inplace=True)\n",
        "df['Credit_History'].fillna(df['Credit_History'].mode()[0], inplace=True)\n"
      ]
    },
    {
      "cell_type": "code",
      "execution_count": null,
      "metadata": {
        "id": "pLIb8j6vtqwu"
      },
      "outputs": [],
      "source": [
        "# Ahora, que no hay valores nulos pasamos a convertir las variables categoricas a númericas\n",
        "#Para llevarlo a cabo, primero cargamos el modulo que necesitamos:\n",
        "from sklearn import preprocessing\n",
        "\n",
        "#creamos el objeto\n",
        "le = preprocessing.LabelEncoder()\n",
        "\n",
        "#Ahora convertimos las variables categoricas en númericas\n",
        "df['Gender'] = le.fit_transform(df['Gender'])\n",
        "df['Married'] = le.fit_transform(df['Married'])\n",
        "df['Dependents'] = le.fit_transform(df['Dependents'])\n",
        "df['Education'] = le.fit_transform(df['Education'])\n",
        "df['Self_Employed'] = le.fit_transform(df['Self_Employed'])\n",
        "df['Property_Area'] = le.fit_transform(df['Property_Area'])\n",
        "df['Loan_Status'] = le.fit_transform(df['Loan_Status'])"
      ]
    },
    {
      "cell_type": "code",
      "execution_count": null,
      "metadata": {
        "id": "FqGIpLeRtqwv",
        "outputId": "86dec079-fc8d-4964-d37b-663bbb6f5d08"
      },
      "outputs": [
        {
          "data": {
            "text/html": [
              "<div>\n",
              "<style scoped>\n",
              "    .dataframe tbody tr th:only-of-type {\n",
              "        vertical-align: middle;\n",
              "    }\n",
              "\n",
              "    .dataframe tbody tr th {\n",
              "        vertical-align: top;\n",
              "    }\n",
              "\n",
              "    .dataframe thead th {\n",
              "        text-align: right;\n",
              "    }\n",
              "</style>\n",
              "<table border=\"1\" class=\"dataframe\">\n",
              "  <thead>\n",
              "    <tr style=\"text-align: right;\">\n",
              "      <th></th>\n",
              "      <th>Loan_ID</th>\n",
              "      <th>Gender</th>\n",
              "      <th>Married</th>\n",
              "      <th>Dependents</th>\n",
              "      <th>Education</th>\n",
              "      <th>Self_Employed</th>\n",
              "      <th>ApplicantIncome</th>\n",
              "      <th>CoapplicantIncome</th>\n",
              "      <th>LoanAmount</th>\n",
              "      <th>Loan_Amount_Term</th>\n",
              "      <th>Credit_History</th>\n",
              "      <th>Property_Area</th>\n",
              "      <th>Loan_Status</th>\n",
              "    </tr>\n",
              "  </thead>\n",
              "  <tbody>\n",
              "    <tr>\n",
              "      <th>0</th>\n",
              "      <td>LP001002</td>\n",
              "      <td>1</td>\n",
              "      <td>0</td>\n",
              "      <td>0</td>\n",
              "      <td>0</td>\n",
              "      <td>0</td>\n",
              "      <td>5849</td>\n",
              "      <td>0.0</td>\n",
              "      <td>146.412162</td>\n",
              "      <td>360.0</td>\n",
              "      <td>1.0</td>\n",
              "      <td>2</td>\n",
              "      <td>1</td>\n",
              "    </tr>\n",
              "    <tr>\n",
              "      <th>1</th>\n",
              "      <td>LP001003</td>\n",
              "      <td>1</td>\n",
              "      <td>1</td>\n",
              "      <td>1</td>\n",
              "      <td>0</td>\n",
              "      <td>0</td>\n",
              "      <td>4583</td>\n",
              "      <td>1508.0</td>\n",
              "      <td>128.000000</td>\n",
              "      <td>360.0</td>\n",
              "      <td>1.0</td>\n",
              "      <td>0</td>\n",
              "      <td>0</td>\n",
              "    </tr>\n",
              "    <tr>\n",
              "      <th>2</th>\n",
              "      <td>LP001005</td>\n",
              "      <td>1</td>\n",
              "      <td>1</td>\n",
              "      <td>0</td>\n",
              "      <td>0</td>\n",
              "      <td>1</td>\n",
              "      <td>3000</td>\n",
              "      <td>0.0</td>\n",
              "      <td>66.000000</td>\n",
              "      <td>360.0</td>\n",
              "      <td>1.0</td>\n",
              "      <td>2</td>\n",
              "      <td>1</td>\n",
              "    </tr>\n",
              "    <tr>\n",
              "      <th>3</th>\n",
              "      <td>LP001006</td>\n",
              "      <td>1</td>\n",
              "      <td>1</td>\n",
              "      <td>0</td>\n",
              "      <td>1</td>\n",
              "      <td>0</td>\n",
              "      <td>2583</td>\n",
              "      <td>2358.0</td>\n",
              "      <td>120.000000</td>\n",
              "      <td>360.0</td>\n",
              "      <td>1.0</td>\n",
              "      <td>2</td>\n",
              "      <td>1</td>\n",
              "    </tr>\n",
              "    <tr>\n",
              "      <th>4</th>\n",
              "      <td>LP001008</td>\n",
              "      <td>1</td>\n",
              "      <td>0</td>\n",
              "      <td>0</td>\n",
              "      <td>0</td>\n",
              "      <td>0</td>\n",
              "      <td>6000</td>\n",
              "      <td>0.0</td>\n",
              "      <td>141.000000</td>\n",
              "      <td>360.0</td>\n",
              "      <td>1.0</td>\n",
              "      <td>2</td>\n",
              "      <td>1</td>\n",
              "    </tr>\n",
              "  </tbody>\n",
              "</table>\n",
              "</div>"
            ],
            "text/plain": [
              "    Loan_ID  Gender  Married  Dependents  Education  Self_Employed  \\\n",
              "0  LP001002       1        0           0          0              0   \n",
              "1  LP001003       1        1           1          0              0   \n",
              "2  LP001005       1        1           0          0              1   \n",
              "3  LP001006       1        1           0          1              0   \n",
              "4  LP001008       1        0           0          0              0   \n",
              "\n",
              "   ApplicantIncome  CoapplicantIncome  LoanAmount  Loan_Amount_Term  \\\n",
              "0             5849                0.0  146.412162             360.0   \n",
              "1             4583             1508.0  128.000000             360.0   \n",
              "2             3000                0.0   66.000000             360.0   \n",
              "3             2583             2358.0  120.000000             360.0   \n",
              "4             6000                0.0  141.000000             360.0   \n",
              "\n",
              "   Credit_History  Property_Area  Loan_Status  \n",
              "0             1.0              2            1  \n",
              "1             1.0              0            0  \n",
              "2             1.0              2            1  \n",
              "3             1.0              2            1  \n",
              "4             1.0              2            1  "
            ]
          },
          "execution_count": 10,
          "metadata": {},
          "output_type": "execute_result"
        }
      ],
      "source": [
        "#Ahora vemos como quedó el dataset\n",
        "df.head(5)"
      ]
    },
    {
      "cell_type": "code",
      "execution_count": null,
      "metadata": {
        "id": "CCg6rKaWtqwv",
        "outputId": "0390320f-7edb-4b4d-fcc3-0abcd5e35f6d"
      },
      "outputs": [
        {
          "name": "stdout",
          "output_type": "stream",
          "text": [
            "Accuracy : 80.945%\n",
            "Cross-Validation Score : 80.946%\n"
          ]
        }
      ],
      "source": [
        "#Ahora estimamos un Árbol de Decisión\n",
        "\n",
        "model = DecisionTreeClassifier()\n",
        "predictor_var = ['Credit_History','Gender','Married','Education']\n",
        "classification_model(model, df,predictor_var,outcome_var)"
      ]
    },
    {
      "cell_type": "code",
      "execution_count": null,
      "metadata": {
        "id": "02clYdbwtqwv",
        "outputId": "16b67211-d681-4859-9d90-c4a6931d2dbe"
      },
      "outputs": [
        {
          "name": "stdout",
          "output_type": "stream",
          "text": [
            "Accuracy : 89.414%\n",
            "Cross-Validation Score : 68.718%\n"
          ]
        }
      ],
      "source": [
        "#Probamos con otras variables\n",
        "\n",
        "model = DecisionTreeClassifier()\n",
        "predictor_var = ['Credit_History','Loan_Amount_Term','LoanAmount']\n",
        "classification_model(model, df,predictor_var,outcome_var)"
      ]
    },
    {
      "cell_type": "code",
      "execution_count": null,
      "metadata": {
        "id": "-5w6Dhv8tqww",
        "outputId": "82780d5a-a11b-469f-d368-e5d7f3de233f"
      },
      "outputs": [
        {
          "ename": "NameError",
          "evalue": "name 'classification_model' is not defined",
          "output_type": "error",
          "traceback": [
            "\u001b[1;31m---------------------------------------------------------------------------\u001b[0m",
            "\u001b[1;31mNameError\u001b[0m                                 Traceback (most recent call last)",
            "\u001b[1;32m<ipython-input-13-10aea8717176>\u001b[0m in \u001b[0;36m<module>\u001b[1;34m\u001b[0m\n\u001b[0;32m      5\u001b[0m        \u001b[1;34m'Self_Employed'\u001b[0m\u001b[1;33m,\u001b[0m \u001b[1;34m'Loan_Amount_Term'\u001b[0m\u001b[1;33m,\u001b[0m \u001b[1;34m'Credit_History'\u001b[0m\u001b[1;33m,\u001b[0m \u001b[1;34m'Property_Area'\u001b[0m\u001b[1;33m,\u001b[0m\u001b[1;33m\u001b[0m\u001b[1;33m\u001b[0m\u001b[0m\n\u001b[0;32m      6\u001b[0m         'LoanAmount','ApplicantIncome']\n\u001b[1;32m----> 7\u001b[1;33m \u001b[0mclassification_model\u001b[0m\u001b[1;33m(\u001b[0m\u001b[0mmodel\u001b[0m\u001b[1;33m,\u001b[0m \u001b[0mdf\u001b[0m\u001b[1;33m,\u001b[0m\u001b[0mpredictor_var\u001b[0m\u001b[1;33m,\u001b[0m\u001b[0moutcome_var\u001b[0m\u001b[1;33m)\u001b[0m\u001b[1;33m\u001b[0m\u001b[1;33m\u001b[0m\u001b[0m\n\u001b[0m",
            "\u001b[1;31mNameError\u001b[0m: name 'classification_model' is not defined"
          ]
        }
      ],
      "source": [
        "#Ahora estimamos un Bosque Aleatorio\n",
        "\n",
        "model = RandomForestClassifier(n_estimators=1000)\n",
        "predictor_var = ['Gender', 'Married', 'Dependents', 'Education',\n",
        "       'Self_Employed', 'Loan_Amount_Term', 'Credit_History', 'Property_Area',\n",
        "        'LoanAmount','ApplicantIncome']\n",
        "classification_model(model, df,predictor_var,outcome_var)"
      ]
    },
    {
      "cell_type": "code",
      "execution_count": null,
      "metadata": {
        "id": "xzGY-1x3tqww",
        "outputId": "672d1344-bf56-4ca7-913d-19676d8694de"
      },
      "outputs": [
        {
          "name": "stdout",
          "output_type": "stream",
          "text": [
            "Credit_History      0.269212\n",
            "ApplicantIncome     0.253305\n",
            "LoanAmount          0.231849\n",
            "Dependents          0.053633\n",
            "Property_Area       0.051881\n",
            "Loan_Amount_Term    0.047857\n",
            "Married             0.026970\n",
            "Education           0.025217\n",
            "Gender              0.020064\n",
            "Self_Employed       0.020012\n",
            "dtype: float64\n"
          ]
        }
      ],
      "source": [
        "#Create a series with feature importances:\n",
        "featimp = pd.Series(model.feature_importances_, index=predictor_var).sort_values(ascending=False)\n",
        "print (featimp)"
      ]
    },
    {
      "cell_type": "code",
      "execution_count": null,
      "metadata": {
        "scrolled": true,
        "id": "f3iP1nWXtqww",
        "outputId": "35517551-69d0-4d94-d1f0-24dce057c71d"
      },
      "outputs": [
        {
          "ename": "NameError",
          "evalue": "name 'classification_model' is not defined",
          "output_type": "error",
          "traceback": [
            "\u001b[1;31m---------------------------------------------------------------------------\u001b[0m",
            "\u001b[1;31mNameError\u001b[0m                                 Traceback (most recent call last)",
            "\u001b[1;32m<ipython-input-38-2d1c6c1bbf82>\u001b[0m in \u001b[0;36m<module>\u001b[1;34m\u001b[0m\n\u001b[0;32m      1\u001b[0m \u001b[0mmodel\u001b[0m \u001b[1;33m=\u001b[0m \u001b[0mRandomForestClassifier\u001b[0m\u001b[1;33m(\u001b[0m\u001b[0mn_estimators\u001b[0m\u001b[1;33m=\u001b[0m\u001b[1;36m1000\u001b[0m\u001b[1;33m,\u001b[0m \u001b[0mmin_samples_split\u001b[0m\u001b[1;33m=\u001b[0m\u001b[1;36m25\u001b[0m\u001b[1;33m,\u001b[0m \u001b[0mmax_depth\u001b[0m\u001b[1;33m=\u001b[0m\u001b[1;36m7\u001b[0m\u001b[1;33m,\u001b[0m \u001b[0mmax_features\u001b[0m\u001b[1;33m=\u001b[0m\u001b[1;36m1\u001b[0m\u001b[1;33m)\u001b[0m\u001b[1;33m\u001b[0m\u001b[1;33m\u001b[0m\u001b[0m\n\u001b[0;32m      2\u001b[0m \u001b[0mpredictor_var\u001b[0m \u001b[1;33m=\u001b[0m \u001b[1;33m[\u001b[0m\u001b[1;34m'ApplicantIncome'\u001b[0m\u001b[1;33m,\u001b[0m\u001b[1;34m'LoanAmount'\u001b[0m\u001b[1;33m,\u001b[0m\u001b[1;34m'Credit_History'\u001b[0m\u001b[1;33m,\u001b[0m\u001b[1;34m'Dependents'\u001b[0m\u001b[1;33m,\u001b[0m\u001b[1;34m'Property_Area'\u001b[0m\u001b[1;33m,\u001b[0m\u001b[1;34m'Loan_Amount_Term'\u001b[0m\u001b[1;33m]\u001b[0m\u001b[1;33m\u001b[0m\u001b[1;33m\u001b[0m\u001b[0m\n\u001b[1;32m----> 3\u001b[1;33m \u001b[0mclassification_model\u001b[0m\u001b[1;33m(\u001b[0m\u001b[0mmodel\u001b[0m\u001b[1;33m,\u001b[0m \u001b[0mdf\u001b[0m\u001b[1;33m,\u001b[0m\u001b[0mpredictor_var\u001b[0m\u001b[1;33m,\u001b[0m\u001b[0moutcome_var\u001b[0m\u001b[1;33m)\u001b[0m\u001b[1;33m\u001b[0m\u001b[1;33m\u001b[0m\u001b[0m\n\u001b[0m",
            "\u001b[1;31mNameError\u001b[0m: name 'classification_model' is not defined"
          ]
        }
      ],
      "source": [
        "model = RandomForestClassifier(n_estimators=1000, min_samples_split=25, max_depth=7, max_features=1)\n",
        "predictor_var = ['ApplicantIncome','LoanAmount','Credit_History','Dependents','Property_Area','Loan_Amount_Term']\n",
        "classification_model(model, df,predictor_var,outcome_var)"
      ]
    },
    {
      "cell_type": "code",
      "execution_count": null,
      "metadata": {
        "id": "Hm7AOWPltqww",
        "outputId": "ef3a4c0d-91f6-411b-df13-f5c511ce4d92"
      },
      "outputs": [
        {
          "ename": "NameError",
          "evalue": "name 'np' is not defined",
          "output_type": "error",
          "traceback": [
            "\u001b[1;31m---------------------------------------------------------------------------\u001b[0m",
            "\u001b[1;31mNameError\u001b[0m                                 Traceback (most recent call last)",
            "\u001b[1;32m<ipython-input-14-b20554ac0e48>\u001b[0m in \u001b[0;36m<module>\u001b[1;34m\u001b[0m\n\u001b[0;32m      9\u001b[0m \u001b[0mmodel\u001b[0m \u001b[1;33m=\u001b[0m \u001b[0mRandomForestClassifier\u001b[0m\u001b[1;33m(\u001b[0m\u001b[0mn_estimators\u001b[0m\u001b[1;33m=\u001b[0m\u001b[1;36m1000\u001b[0m\u001b[1;33m,\u001b[0m \u001b[0mmin_samples_split\u001b[0m\u001b[1;33m=\u001b[0m\u001b[1;36m25\u001b[0m\u001b[1;33m,\u001b[0m \u001b[0mmax_depth\u001b[0m\u001b[1;33m=\u001b[0m\u001b[1;36m7\u001b[0m\u001b[1;33m,\u001b[0m \u001b[0mmax_features\u001b[0m\u001b[1;33m=\u001b[0m\u001b[1;36m1\u001b[0m\u001b[1;33m)\u001b[0m\u001b[1;33m\u001b[0m\u001b[1;33m\u001b[0m\u001b[0m\n\u001b[0;32m     10\u001b[0m \u001b[0mcv_results\u001b[0m\u001b[1;33m=\u001b[0m\u001b[0mcross_val_score\u001b[0m\u001b[1;33m(\u001b[0m\u001b[0mmodel\u001b[0m\u001b[1;33m,\u001b[0m\u001b[0mpredictor_var\u001b[0m\u001b[1;33m,\u001b[0m\u001b[0moutcome_var\u001b[0m\u001b[1;33m,\u001b[0m\u001b[0mcv\u001b[0m\u001b[1;33m=\u001b[0m\u001b[1;36m5\u001b[0m\u001b[1;33m)\u001b[0m\u001b[1;33m\u001b[0m\u001b[1;33m\u001b[0m\u001b[0m\n\u001b[1;32m---> 11\u001b[1;33m \u001b[0mnp\u001b[0m\u001b[1;33m.\u001b[0m\u001b[0mmean\u001b[0m\u001b[1;33m(\u001b[0m\u001b[0mcv_results\u001b[0m\u001b[1;33m)\u001b[0m\u001b[1;33m\u001b[0m\u001b[1;33m\u001b[0m\u001b[0m\n\u001b[0m",
            "\u001b[1;31mNameError\u001b[0m: name 'np' is not defined"
          ]
        }
      ],
      "source": [
        "from sklearn.model_selection import cross_val_score   #For K-fold cross validation\n",
        "from sklearn.ensemble import RandomForestClassifier\n",
        "\n",
        "predictor_var=df.drop(['Loan_ID','Loan_Status'],axis=1).values\n",
        "predictor_var.reshape(-1,1)\n",
        "outcome_var=df.Loan_Status.values\n",
        "outcome_var.reshape(-1,1)\n",
        "\n",
        "model = RandomForestClassifier(n_estimators=1000, min_samples_split=25, max_depth=7, max_features=1)\n",
        "cv_results=cross_val_score(model,predictor_var,outcome_var,cv=5)\n",
        "np.mean(cv_results)"
      ]
    },
    {
      "cell_type": "code",
      "execution_count": null,
      "metadata": {
        "id": "1cyxbhpptqwx",
        "outputId": "8d3914cc-a9e4-4b3b-dc2c-1c7612bc4099"
      },
      "outputs": [
        {
          "data": {
            "text/plain": [
              "0.8094457455113192"
            ]
          },
          "execution_count": 90,
          "metadata": {},
          "output_type": "execute_result"
        }
      ],
      "source": [
        "from sklearn.model_selection import cross_val_score   #For K-fold cross validation\n",
        "from sklearn.ensemble import RandomForestClassifier\n",
        "\n",
        "predictor_var=df[['ApplicantIncome','LoanAmount','Credit_History','Dependents','Property_Area','Loan_Amount_Term']].values\n",
        "predictor_var.reshape(-1,1)\n",
        "outcome_var=df.Loan_Status.values\n",
        "outcome_var.reshape(-1,1)\n",
        "\n",
        "model = RandomForestClassifier(n_estimators=1000, min_samples_split=20, max_depth=3, max_features=3)\n",
        "cv_results=cross_val_score(model,predictor_var,outcome_var,cv=10)\n",
        "np.mean(cv_results)"
      ]
    },
    {
      "cell_type": "code",
      "execution_count": null,
      "metadata": {
        "id": "AgRY2l0jtqwx",
        "outputId": "0652346e-031b-4c44-fd81-395b8d4c59d1"
      },
      "outputs": [
        {
          "name": "stdout",
          "output_type": "stream",
          "text": [
            "[ 0.         -0.          0.64143986  0.          0.         -0.        ]\n"
          ]
        },
        {
          "data": {
            "text/plain": [
              "Index(['Loan_ID', 'Gender', 'Married', 'Dependents', 'Education',\n",
              "       'Self_Employed', 'ApplicantIncome', 'CoapplicantIncome', 'LoanAmount',\n",
              "       'Loan_Amount_Term', 'Credit_History', 'Property_Area', 'Loan_Status'],\n",
              "      dtype='object')"
            ]
          },
          "execution_count": 84,
          "metadata": {},
          "output_type": "execute_result"
        }
      ],
      "source": [
        "#Regularizacion lasso\n",
        "\n",
        "# Import Lasso\n",
        "from sklearn.linear_model import Lasso\n",
        "import matplotlib.pyplot as plt\n",
        "\n",
        "# Instantiate a lasso regressor: lasso\n",
        "lasso = Lasso(alpha=0.001,normalize=True)\n",
        "\n",
        "# Fit the regressor to the data\n",
        "lasso.fit(predictor_var,outcome_var)\n",
        "\n",
        "# Compute and print the coefficients\n",
        "lasso_coef = lasso.coef_\n",
        "print(lasso_coef)\n",
        "\n"
      ]
    },
    {
      "cell_type": "code",
      "execution_count": null,
      "metadata": {
        "id": "lEGgH1aMtqwx",
        "outputId": "bbf9c6e8-9f3a-453f-846b-ae09bc8a4cb5"
      },
      "outputs": [
        {
          "data": {
            "image/png": "[encoded data removed]",
            "text/plain": [
              "<Figure size 432x288 with 1 Axes>"
            ]
          },
          "metadata": {
            "needs_background": "light"
          },
          "output_type": "display_data"
        }
      ],
      "source": [
        "#Regularizacion ridge\n",
        "\n",
        "# Import necessary modules\n",
        "import numpy as np\n",
        "import matplotlib.pyplot as plt \n",
        "from sklearn.linear_model import Ridge\n",
        "from sklearn.linear_model import Lasso\n",
        "from sklearn.model_selection import cross_val_score\n",
        "\n",
        "# Setup the array of alphas and lists to store scores\n",
        "alpha_space = np.logspace(-4, 0, 50)\n",
        "ridge_scores = []\n",
        "ridge_scores_std = []\n",
        "\n",
        "# Create a ridge regressor: ridge\n",
        "ridge = Ridge(normalize=True)\n",
        "\n",
        "# Compute scores over range of alphas\n",
        "for alpha in alpha_space:\n",
        "\n",
        "    # Specify the alpha value to use: ridge.alpha\n",
        "    ridge.alpha = alpha\n",
        "    \n",
        "    # Perform 10-fold CV: ridge_cv_scores\n",
        "    ridge_cv_scores = cross_val_score(ridge, predictor_var,outcome_var, cv=10)\n",
        "    \n",
        "    # Append the mean of ridge_cv_scores to ridge_scores\n",
        "    ridge_scores.append(np.mean(ridge_cv_scores))\n",
        "    \n",
        "    # Append the std of ridge_cv_scores to ridge_scores_std\n",
        "    ridge_scores_std.append(np.std(ridge_cv_scores))\n",
        "\n",
        "# Display the plot\n",
        "def display_plot(cv_scores, cv_scores_std):\n",
        "    fig = plt.figure()\n",
        "    ax = fig.add_subplot(1,1,1)\n",
        "    ax.plot(alpha_space, cv_scores)\n",
        "\n",
        "    std_error = cv_scores_std / np.sqrt(10)\n",
        "\n",
        "    ax.fill_between(alpha_space, cv_scores + std_error, cv_scores - std_error, alpha=0.2)\n",
        "    ax.set_ylabel('CV Score +/- Std Error')\n",
        "    ax.set_xlabel('Alpha')\n",
        "    ax.axhline(np.max(cv_scores), linestyle='--', color='.5')\n",
        "    ax.set_xlim([alpha_space[0], alpha_space[-1]])\n",
        "    ax.set_xscale('log')\n",
        "    plt.show()\n",
        "    \n",
        "display_plot(ridge_scores, ridge_scores_std)\n"
      ]
    },
    {
      "cell_type": "code",
      "execution_count": null,
      "metadata": {
        "id": "-GA68KkVtqwy",
        "outputId": "36a63965-1b0e-4b4e-bded-a52103f174de"
      },
      "outputs": [
        {
          "data": {
            "text/plain": [
              "0.270402010119075"
            ]
          },
          "execution_count": 21,
          "metadata": {},
          "output_type": "execute_result"
        }
      ],
      "source": [
        "# Create a ridge regressor: ridge\n",
        "model = Ridge(alpha=0.1)\n",
        "\n",
        "cv_results=cross_val_score(model,predictor_var,outcome_var,cv=5)\n",
        "np.mean(cv_results)"
      ]
    },
    {
      "cell_type": "code",
      "execution_count": null,
      "metadata": {
        "id": "pqH1AN08tqwy",
        "outputId": "26f0f207-2e56-4865-dfe3-33eb2e10f401"
      },
      "outputs": [
        {
          "name": "stdout",
          "output_type": "stream",
          "text": [
            "0.8065449628127113\n",
            "[[ 23  42]\n",
            " [  2 118]]\n",
            "              precision    recall  f1-score   support\n",
            "\n",
            "           0       0.92      0.35      0.51        65\n",
            "           1       0.74      0.98      0.84       120\n",
            "\n",
            "   micro avg       0.76      0.76      0.76       185\n",
            "   macro avg       0.83      0.67      0.68       185\n",
            "weighted avg       0.80      0.76      0.73       185\n",
            "\n",
            "0.7995943204868153\n",
            "[[ 27  38]\n",
            " [  2 118]]\n",
            "              precision    recall  f1-score   support\n",
            "\n",
            "           0       0.93      0.42      0.57        65\n",
            "           1       0.76      0.98      0.86       120\n",
            "\n",
            "   micro avg       0.78      0.78      0.78       185\n",
            "   macro avg       0.84      0.70      0.71       185\n",
            "weighted avg       0.82      0.78      0.76       185\n",
            "\n"
          ]
        },
        {
          "name": "stderr",
          "output_type": "stream",
          "text": [
            "C:\\ProgramData\\Anaconda3\\lib\\site-packages\\sklearn\\linear_model\\logistic.py:433: FutureWarning: Default solver will be changed to 'lbfgs' in 0.22. Specify a solver to silence this warning.\n",
            "  FutureWarning)\n"
          ]
        }
      ],
      "source": [
        "from sklearn.model_selection import cross_val_score   #For K-fold cross validation\n",
        "from sklearn.ensemble import RandomForestClassifier\n",
        "from sklearn.linear_model import LogisticRegression\n",
        "from sklearn.model_selection import train_test_split\n",
        "from sklearn.metrics import classification_report,confusion_matrix\n",
        "\n",
        "predictor_var=df.drop(['Loan_ID','Loan_Status'],axis=1).values\n",
        "predictor_var.reshape(-1,1)\n",
        "outcome_var=df.Loan_Status.values\n",
        "outcome_var.reshape(-1,1)\n",
        "\n",
        "# Create training and test set\n",
        "X_train, X_test, y_train, y_test = train_test_split(predictor_var,outcome_var,test_size=0.3,random_state=42)\n",
        "\n",
        "# Model 1 - knn\n",
        "model = RandomForestClassifier(n_estimators=1000, min_samples_split=25, max_depth=7, max_features=1)\n",
        "cv_results=cross_val_score(model,X_train,y_train,cv=5)\n",
        "print(np.mean(cv_results))\n",
        "\n",
        "# Predict the labels of the test data: y_pred\n",
        "model.fit(X_train,y_train)\n",
        "y_pred=model.predict(X_test)\n",
        "\n",
        "# Generate the confusion matrix and classification report\n",
        "print(confusion_matrix(y_test, y_pred))\n",
        "print(classification_report(y_test, y_pred))\n",
        "\n",
        "# Model 2 - Regresion Logistica\n",
        "model2 = LogisticRegression()\n",
        "cv_results=cross_val_score(model,X_train,y_train,cv=5)\n",
        "print(np.mean(cv_results))\n",
        "\n",
        "# Predict the labels of the test data: y_pred\n",
        "model2.fit(X_train,y_train)\n",
        "y_pred=model2.predict(X_test)\n",
        "\n",
        "# Generate the confusion matrix and classification report\n",
        "print(confusion_matrix(y_test, y_pred))\n",
        "print(classification_report(y_test, y_pred))"
      ]
    },
    {
      "cell_type": "code",
      "execution_count": null,
      "metadata": {
        "id": "xHWeAWJOtqwy",
        "outputId": "acdedc28-2690-4d12-f3b8-76534f31416d"
      },
      "outputs": [
        {
          "data": {
            "image/png": "[encoded data removed]",
            "text/plain": [
              "<Figure size 432x288 with 1 Axes>"
            ]
          },
          "metadata": {
            "needs_background": "light"
          },
          "output_type": "display_data"
        },
        {
          "data": {
            "text/plain": [
              "0.77"
            ]
          },
          "execution_count": 35,
          "metadata": {},
          "output_type": "execute_result"
        }
      ],
      "source": [
        "##Encontrar la curva ROC\n",
        "\n",
        "# Import necessary modules\n",
        "from sklearn.metrics import roc_curve\n",
        "from sklearn.metrics import roc_auc_score\n",
        "\n",
        "# Compute predicted probabilities: y_pred_prob\n",
        "y_pred_prob = model2.predict_proba(X_test)[:,1]\n",
        "\n",
        "# Generate ROC curve values: fpr, tpr, thresholds\n",
        "fpr, tpr, thresholds = roc_curve(y_test, y_pred_prob)\n",
        "\n",
        "# Plot ROC curve\n",
        "plt.plot([0, 1], [0, 1], 'k--')\n",
        "plt.plot(fpr, tpr)\n",
        "plt.xlabel('False Positive Rate')\n",
        "plt.ylabel('True Positive Rate')\n",
        "plt.title('ROC Curve')\n",
        "plt.show()\n",
        "\n",
        "roc_auc_score(y_test,y_pred_prob)"
      ]
    },
    {
      "cell_type": "code",
      "execution_count": null,
      "metadata": {
        "id": "c8rub51Btqwz",
        "outputId": "b5ed3be9-834a-4e24-c965-fbb78d987c5b"
      },
      "outputs": [
        {
          "name": "stdout",
          "output_type": "stream",
          "text": [
            "Tuned Decision Tree Parameters: {'max_depth': 3, 'max_features': 2, 'min_samples_split': 27, 'n_estimators': 1000}\n",
            "Best score is 0.8205128205128205\n",
            "[[ 27  38]\n",
            " [  2 118]]\n",
            "              precision    recall  f1-score   support\n",
            "\n",
            "           N       0.93      0.42      0.57        65\n",
            "           Y       0.76      0.98      0.86       120\n",
            "\n",
            "   micro avg       0.78      0.78      0.78       185\n",
            "   macro avg       0.84      0.70      0.71       185\n",
            "weighted avg       0.82      0.78      0.76       185\n",
            "\n"
          ]
        },
        {
          "ename": "AttributeError",
          "evalue": "'RandomizedSearchCV' object has no attribute 'feature_importances_'",
          "output_type": "error",
          "traceback": [
            "\u001b[1;31m---------------------------------------------------------------------------\u001b[0m",
            "\u001b[1;31mAttributeError\u001b[0m                            Traceback (most recent call last)",
            "\u001b[1;32m<ipython-input-14-1c7abd1ddcd2>\u001b[0m in \u001b[0;36m<module>\u001b[1;34m\u001b[0m\n\u001b[0;32m     44\u001b[0m \u001b[1;33m\u001b[0m\u001b[0m\n\u001b[0;32m     45\u001b[0m \u001b[1;31m# Create a pd.Series of features importances\u001b[0m\u001b[1;33m\u001b[0m\u001b[1;33m\u001b[0m\u001b[1;33m\u001b[0m\u001b[0m\n\u001b[1;32m---> 46\u001b[1;33m importances = pd.Series(data=model_cv.feature_importances_,\n\u001b[0m\u001b[0;32m     47\u001b[0m                         index= X_train.columns)\n\u001b[0;32m     48\u001b[0m \u001b[1;33m\u001b[0m\u001b[0m\n",
            "\u001b[1;31mAttributeError\u001b[0m: 'RandomizedSearchCV' object has no attribute 'feature_importances_'"
          ]
        }
      ],
      "source": [
        "#Realizar estimación con GridSearchCV; para encontrar los mejores parametros\n",
        "\n",
        "from sklearn.model_selection import cross_val_score   #For K-fold cross validation\n",
        "from sklearn.ensemble import RandomForestClassifier\n",
        "from sklearn.linear_model import LogisticRegression\n",
        "from sklearn.model_selection import train_test_split\n",
        "from sklearn.metrics import classification_report,confusion_matrix\n",
        "from scipy.stats import randint\n",
        "from sklearn.model_selection import RandomizedSearchCV\n",
        "\n",
        "predictor_var=df3.values\n",
        "predictor_var.reshape(-1,1)\n",
        "outcome_var=df.Loan_Status.values\n",
        "outcome_var.reshape(-1,1)\n",
        "\n",
        "# Create training and test set\n",
        "X_train, X_test, y_train, y_test = train_test_split(predictor_var,outcome_var,test_size=0.3,random_state=42)\n",
        "\n",
        "# Setup the parameters and distributions to sample from: param_dist\n",
        "param_dist = {\"max_depth\": [3, None],\n",
        "              \"max_features\": randint(1, 9),\n",
        "              \"min_samples_split\": randint(10, 50),\n",
        "              \"n_estimators\":[1000]}\n",
        "\n",
        "# Model 1 - Random Forest\n",
        "\n",
        "model = RandomForestClassifier()\n",
        "model_cv=RandomizedSearchCV(model, param_dist, cv=5)\n",
        "\n",
        "# Fit it to the data\n",
        "model_cv.fit(X_train, y_train)\n",
        "\n",
        "# Print the tuned parameters and score\n",
        "print(\"Tuned Decision Tree Parameters: {}\".format(model_cv.best_params_))\n",
        "print(\"Best score is {}\".format(model_cv.best_score_))\n",
        "\n",
        "# Predict on the test set and compute metrics\n",
        "y_pred = model_cv.predict(X_test)\n",
        "score = model_cv.score(X_test, y_test)\n",
        "\n",
        "# Generate the confusion matrix and classification report\n",
        "print(confusion_matrix(y_test, y_pred))\n",
        "print(classification_report(y_test, y_pred))\n",
        "\n",
        "# Create a pd.Series of features importances\n",
        "importances = pd.Series(data=model_cv.feature_importances_,\n",
        "                        index= X_train.columns)\n",
        "\n",
        "# Sort importances\n",
        "importances_sorted = importances.sort_values()\n",
        "\n",
        "# Draw a horizontal barplot of importances_sorted\n",
        "importances_sorted.plot(kind='barh', color='lightgreen')\n",
        "plt.title('Features Importances')\n",
        "plt.show()"
      ]
    },
    {
      "cell_type": "code",
      "execution_count": null,
      "metadata": {
        "id": "icPYTSvwtqwz",
        "outputId": "648338f5-547e-4950-ea4f-1b93879003b8"
      },
      "outputs": [
        {
          "data": {
            "text/html": [
              "<div>\n",
              "<style scoped>\n",
              "    .dataframe tbody tr th:only-of-type {\n",
              "        vertical-align: middle;\n",
              "    }\n",
              "\n",
              "    .dataframe tbody tr th {\n",
              "        vertical-align: top;\n",
              "    }\n",
              "\n",
              "    .dataframe thead th {\n",
              "        text-align: right;\n",
              "    }\n",
              "</style>\n",
              "<table border=\"1\" class=\"dataframe\">\n",
              "  <thead>\n",
              "    <tr style=\"text-align: right;\">\n",
              "      <th></th>\n",
              "      <th>ApplicantIncome</th>\n",
              "      <th>LoanAmount</th>\n",
              "      <th>Credit_History</th>\n",
              "      <th>Loan_Amount_Term</th>\n",
              "      <th>Dependents_1</th>\n",
              "      <th>Dependents_2</th>\n",
              "      <th>Dependents_3+</th>\n",
              "      <th>Property_Area_Semiurban</th>\n",
              "      <th>Property_Area_Urban</th>\n",
              "    </tr>\n",
              "  </thead>\n",
              "  <tbody>\n",
              "    <tr>\n",
              "      <th>0</th>\n",
              "      <td>5849</td>\n",
              "      <td>146.412162</td>\n",
              "      <td>1.0</td>\n",
              "      <td>360.0</td>\n",
              "      <td>0</td>\n",
              "      <td>0</td>\n",
              "      <td>0</td>\n",
              "      <td>0</td>\n",
              "      <td>1</td>\n",
              "    </tr>\n",
              "    <tr>\n",
              "      <th>1</th>\n",
              "      <td>4583</td>\n",
              "      <td>128.000000</td>\n",
              "      <td>1.0</td>\n",
              "      <td>360.0</td>\n",
              "      <td>1</td>\n",
              "      <td>0</td>\n",
              "      <td>0</td>\n",
              "      <td>0</td>\n",
              "      <td>0</td>\n",
              "    </tr>\n",
              "    <tr>\n",
              "      <th>2</th>\n",
              "      <td>3000</td>\n",
              "      <td>66.000000</td>\n",
              "      <td>1.0</td>\n",
              "      <td>360.0</td>\n",
              "      <td>0</td>\n",
              "      <td>0</td>\n",
              "      <td>0</td>\n",
              "      <td>0</td>\n",
              "      <td>1</td>\n",
              "    </tr>\n",
              "    <tr>\n",
              "      <th>3</th>\n",
              "      <td>2583</td>\n",
              "      <td>120.000000</td>\n",
              "      <td>1.0</td>\n",
              "      <td>360.0</td>\n",
              "      <td>0</td>\n",
              "      <td>0</td>\n",
              "      <td>0</td>\n",
              "      <td>0</td>\n",
              "      <td>1</td>\n",
              "    </tr>\n",
              "    <tr>\n",
              "      <th>4</th>\n",
              "      <td>6000</td>\n",
              "      <td>141.000000</td>\n",
              "      <td>1.0</td>\n",
              "      <td>360.0</td>\n",
              "      <td>0</td>\n",
              "      <td>0</td>\n",
              "      <td>0</td>\n",
              "      <td>0</td>\n",
              "      <td>1</td>\n",
              "    </tr>\n",
              "  </tbody>\n",
              "</table>\n",
              "</div>"
            ],
            "text/plain": [
              "   ApplicantIncome  LoanAmount  Credit_History  Loan_Amount_Term  \\\n",
              "0             5849  146.412162             1.0             360.0   \n",
              "1             4583  128.000000             1.0             360.0   \n",
              "2             3000   66.000000             1.0             360.0   \n",
              "3             2583  120.000000             1.0             360.0   \n",
              "4             6000  141.000000             1.0             360.0   \n",
              "\n",
              "   Dependents_1  Dependents_2  Dependents_3+  Property_Area_Semiurban  \\\n",
              "0             0             0              0                        0   \n",
              "1             1             0              0                        0   \n",
              "2             0             0              0                        0   \n",
              "3             0             0              0                        0   \n",
              "4             0             0              0                        0   \n",
              "\n",
              "   Property_Area_Urban  \n",
              "0                    1  \n",
              "1                    0  \n",
              "2                    1  \n",
              "3                    1  \n",
              "4                    1  "
            ]
          },
          "execution_count": 12,
          "metadata": {},
          "output_type": "execute_result"
        }
      ],
      "source": [
        "#Crear variables dummies a variables categoricas\n",
        "\n",
        "import pandas as pd\n",
        "\n",
        "df=pd.read_csv('C:/Users/Diego/Documents/train.csv')\n",
        "\n",
        "#reemplazar valores nulos\n",
        "df['Gender'].fillna(df['Gender'].mode()[0], inplace=True)\n",
        "df['Married'].fillna(df['Married'].mode()[0], inplace=True)\n",
        "df['Dependents'].fillna(df['Dependents'].mode()[0], inplace=True)\n",
        "df['Self_Employed'].fillna(df['Self_Employed'].mode()[0], inplace=True)\n",
        "df['LoanAmount'].fillna(df['LoanAmount'].mean(), inplace=True)\n",
        "df['Loan_Amount_Term'].fillna(df['Loan_Amount_Term'].mode()[0], inplace=True)\n",
        "df['Credit_History'].fillna(df['Credit_History'].mode()[0], inplace=True)\n",
        "\n",
        "df2=df[['ApplicantIncome','LoanAmount','Credit_History','Dependents','Property_Area','Loan_Amount_Term']]\n",
        "df3=pd.get_dummies(df2,drop_first=True)\n",
        "df3.head(5)\n",
        "\n",
        "                           "
      ]
    },
    {
      "cell_type": "code",
      "execution_count": null,
      "metadata": {
        "id": "SYIuB5Cbtqwz"
      },
      "outputs": [],
      "source": [
        "#Modelo con imputación de valores \n",
        "\n",
        "# Import necessary modules\n",
        "from sklearn.preprocessing import Imputer\n",
        "from sklearn.pipeline import Pipeline\n",
        "from sklearn.svm import SVC\n",
        "\n",
        "# Setup the pipeline steps: steps\n",
        "steps = [('imputation', Imputer(missing_values='NaN', strategy='most_frequent', axis=0)),\n",
        "        ('SVM', SVC())]\n",
        "\n",
        "# Create the pipeline: pipeline\n",
        "pipeline = Pipeline(steps)\n",
        "\n",
        "# Create training and test sets\n",
        "X_train, X_test, y_train, y_test = train_test_split(X,y,test_size=0.3,random_state=42)\n",
        "\n",
        "\n",
        "# Fit the pipeline to the train set\n",
        "pipeline.fit(X_train,y_train)\n",
        "\n",
        "# Prediict the labels of the test set\n",
        "y_pred = pipeline.predict(X_test)\n",
        "\n",
        "# Compute metrics\n",
        "print(classification_report(y_test, y_pred))"
      ]
    },
    {
      "cell_type": "code",
      "execution_count": null,
      "metadata": {
        "id": "FcHEneAHtqwz"
      },
      "outputs": [],
      "source": [
        "#Modelos con escalado de las variables\n",
        "\n",
        "# Setup the pipeline steps: steps\n",
        "steps = [('imputation', Imputer(missing_values='NaN', strategy='mean', axis=0)),\n",
        "         ('scaler', StandardScaler()),\n",
        "         ('elasticnet', ElasticNet())]\n",
        "\n",
        "# Create the pipeline: pipeline \n",
        "pipeline = Pipeline(steps)\n",
        "\n",
        "# Specify the hyperparameter space\n",
        "parameters = {'elasticnet__l1_ratio':np.linspace(0,1,30)}\n",
        "\n",
        "# Create train and test sets\n",
        "X_train, X_test, y_train, y_test = train_test_split(X, y, test_size=0.4, random_state=42)\n",
        "\n",
        "# Create the GridSearchCV object: gm_cv\n",
        "gm_cv = GridSearchCV(pipeline, param_grid=parameters)\n",
        "\n",
        "# Fit to the training set\n",
        "gm_cv.fit(X_train, y_train)\n",
        "\n",
        "# Compute and print the metrics\n",
        "r2 = gm_cv.score(X_test, y_test)\n",
        "print(\"Tuned ElasticNet Alpha: {}\".format(gm_cv.best_params_))\n",
        "print(\"Tuned ElasticNet R squared: {}\".format(r2))"
      ]
    },
    {
      "cell_type": "code",
      "execution_count": null,
      "metadata": {
        "id": "TpaeIrXwtqw0"
      },
      "outputs": [],
      "source": [
        "#Bagging\n",
        "\n",
        "# Import DecisionTreeClassifier\n",
        "from sklearn.tree import DecisionTreeClassifier \n",
        "\n",
        "# Import BaggingClassifier\n",
        "from sklearn.ensemble import BaggingClassifier\n",
        "\n",
        "# Instantiate dt\n",
        "dt = DecisionTreeClassifier(random_state=1)\n",
        "\n",
        "# Instantiate bc\n",
        "bc = BaggingClassifier(base_estimator=dt, n_estimators=50,obb_score=True, random_state=1,n_jobs=-1)\n",
        "\n",
        "# Fit bc to the training set \n",
        "bc.fit(X_train, y_train)\n",
        "\n",
        "# Predict test set labels\n",
        "y_pred = bc.predict(X_test)\n",
        "\n",
        "# Evaluate test set accuracy\n",
        "acc_test = accuracy_score(y_test, y_pred)\n",
        "\n",
        "# Evaluate OOB accuracy\n",
        "acc_oob = bc.oob_score_\n",
        "\n",
        "# Print acc_test and acc_oob\n",
        "print('Test set accuracy: {:.3f}, OOB accuracy: {:.3f}'.format(acc_test, acc_oob))"
      ]
    },
    {
      "cell_type": "code",
      "execution_count": null,
      "metadata": {
        "id": "WhFVhChvtqw0"
      },
      "outputs": [],
      "source": [
        ""
      ]
    }
  ],
  "metadata": {
    "kernelspec": {
      "display_name": "Python 3",
      "language": "python",
      "name": "python3"
    },
    "language_info": {
      "codemirror_mode": {
        "name": "ipython",
        "version": 3
      },
      "file_extension": ".py",
      "mimetype": "text/x-python",
      "name": "python",
      "nbconvert_exporter": "python",
      "pygments_lexer": "ipython3",
      "version": "3.7.1"
    },
    "colab": {
      "name": "pandas_ejemplo.ipynb",
      "provenance": [],
      "toc_visible": true,
      "include_colab_link": true
    }
  },
  "nbformat": 4,
  "nbformat_minor": 0
}